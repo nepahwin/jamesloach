{
 "cells": [
  {
   "cell_type": "markdown",
   "metadata": {},
   "source": [
    "- title: Check for a Chinese character\n",
    "- slug: check_character\n",
    "- date: 2017-04-18 12:00\n",
    "- category: chinese\n",
    "- tags: computing\n",
    "- author: James Loach\n",
    "- summary: Check for a Chinese character"
   ]
  },
  {
   "cell_type": "markdown",
   "metadata": {},
   "source": [
    "This function checks whether a character is one of the 20950 [CJK Unified Ideographs](https://en.wikipedia.org/wiki/CJK_Unified_Ideographs#CJK_Unified_Ideographs). These include all the Chinese hanzi, Japanese kanji, and Korean hanja in common usage. Some rarer characters and variants are stored elsewhere, but it's still a reliable test real world applications. "
   ]
  },
  {
   "cell_type": "code",
   "execution_count": 1,
   "metadata": {},
   "outputs": [],
   "source": [
    "def is_hanzi(char):\n",
    "    \"\"\"Check for CJK Unified Ideograph.\"\"\"\n",
    "    return ord(char) >= 0x4e00 and ord(char) <= 0x9fff"
   ]
  },
  {
   "cell_type": "markdown",
   "metadata": {},
   "source": [
    "`ord` is [built-in function](https://docs.python.org/3.6/library/functions.html#ord) returning the Unicode code point of a single Unicode character."
   ]
  },
  {
   "cell_type": "code",
   "execution_count": 2,
   "metadata": {},
   "outputs": [
    {
     "name": "stdout",
     "output_type": "stream",
     "text": [
      "False\n",
      "False\n",
      "False\n",
      "True\n",
      "True\n",
      "True\n",
      "True\n"
     ]
    }
   ],
   "source": [
    "for char in 'a. 一见钟情':\n",
    "    print(is_hanzi(char))"
   ]
  }
 ],
 "metadata": {
  "kernelspec": {
   "display_name": "Python 3",
   "language": "python",
   "name": "python3"
  },
  "language_info": {
   "codemirror_mode": {
    "name": "ipython",
    "version": 3
   },
   "file_extension": ".py",
   "mimetype": "text/x-python",
   "name": "python",
   "nbconvert_exporter": "python",
   "pygments_lexer": "ipython3",
   "version": "3.7.0"
  }
 },
 "nbformat": 4,
 "nbformat_minor": 1
}
