{
 "cells": [
  {
   "cell_type": "markdown",
   "metadata": {},
   "source": [
    "- Title: Apply PCA to a DataFrame\n",
    "- Slug: sklearn_pca_to_dataframe\n",
    "- Summary: Apply scikit-learn PCA to a pandas DataFrame\n",
    "- Date: 2017-08-30\n",
    "- Category: python\n",
    "- Tags: pandas\n",
    "- Authors: James Loach"
   ]
  },
  {
   "cell_type": "code",
   "execution_count": 5,
   "metadata": {},
   "outputs": [],
   "source": [
    "import pandas as pd\n",
    "from pandas import DataFrame\n",
    "import numpy as np\n",
    "\n",
    "from sklearn.decomposition import PCA"
   ]
  },
  {
   "cell_type": "markdown",
   "metadata": {},
   "source": [
    "Create a `DataFrame` full of random numbers."
   ]
  },
  {
   "cell_type": "code",
   "execution_count": 9,
   "metadata": {},
   "outputs": [
    {
     "data": {
      "text/html": [
       "<div>\n",
       "<style>\n",
       "    .dataframe thead tr:only-child th {\n",
       "        text-align: right;\n",
       "    }\n",
       "\n",
       "    .dataframe thead th {\n",
       "        text-align: left;\n",
       "    }\n",
       "\n",
       "    .dataframe tbody tr th {\n",
       "        vertical-align: top;\n",
       "    }\n",
       "</style>\n",
       "<table border=\"1\" class=\"dataframe\">\n",
       "  <thead>\n",
       "    <tr style=\"text-align: right;\">\n",
       "      <th></th>\n",
       "      <th>0</th>\n",
       "      <th>1</th>\n",
       "      <th>2</th>\n",
       "      <th>3</th>\n",
       "      <th>4</th>\n",
       "      <th>5</th>\n",
       "      <th>6</th>\n",
       "      <th>7</th>\n",
       "    </tr>\n",
       "  </thead>\n",
       "  <tbody>\n",
       "    <tr>\n",
       "      <th>0</th>\n",
       "      <td>-0.314008</td>\n",
       "      <td>-1.090192</td>\n",
       "      <td>-0.920020</td>\n",
       "      <td>-0.559545</td>\n",
       "      <td>0.775226</td>\n",
       "      <td>-0.882474</td>\n",
       "      <td>1.050049</td>\n",
       "      <td>-0.092116</td>\n",
       "    </tr>\n",
       "    <tr>\n",
       "      <th>1</th>\n",
       "      <td>-0.145504</td>\n",
       "      <td>-0.297851</td>\n",
       "      <td>0.140186</td>\n",
       "      <td>-0.724637</td>\n",
       "      <td>0.558747</td>\n",
       "      <td>-0.708013</td>\n",
       "      <td>-0.555629</td>\n",
       "      <td>0.653227</td>\n",
       "    </tr>\n",
       "    <tr>\n",
       "      <th>2</th>\n",
       "      <td>0.711590</td>\n",
       "      <td>-0.215502</td>\n",
       "      <td>-0.266352</td>\n",
       "      <td>-1.058049</td>\n",
       "      <td>-0.324418</td>\n",
       "      <td>0.929751</td>\n",
       "      <td>0.352552</td>\n",
       "      <td>-0.256500</td>\n",
       "    </tr>\n",
       "    <tr>\n",
       "      <th>3</th>\n",
       "      <td>0.625027</td>\n",
       "      <td>-0.725645</td>\n",
       "      <td>0.477974</td>\n",
       "      <td>-1.182262</td>\n",
       "      <td>1.435128</td>\n",
       "      <td>-0.673370</td>\n",
       "      <td>-1.112910</td>\n",
       "      <td>0.354148</td>\n",
       "    </tr>\n",
       "    <tr>\n",
       "      <th>4</th>\n",
       "      <td>1.335500</td>\n",
       "      <td>-0.488708</td>\n",
       "      <td>-0.131384</td>\n",
       "      <td>-0.581381</td>\n",
       "      <td>-0.451392</td>\n",
       "      <td>0.149943</td>\n",
       "      <td>-0.250088</td>\n",
       "      <td>-0.011798</td>\n",
       "    </tr>\n",
       "  </tbody>\n",
       "</table>\n",
       "</div>"
      ],
      "text/plain": [
       "          0         1         2         3         4         5         6  \\\n",
       "0 -0.314008 -1.090192 -0.920020 -0.559545  0.775226 -0.882474  1.050049   \n",
       "1 -0.145504 -0.297851  0.140186 -0.724637  0.558747 -0.708013 -0.555629   \n",
       "2  0.711590 -0.215502 -0.266352 -1.058049 -0.324418  0.929751  0.352552   \n",
       "3  0.625027 -0.725645  0.477974 -1.182262  1.435128 -0.673370 -1.112910   \n",
       "4  1.335500 -0.488708 -0.131384 -0.581381 -0.451392  0.149943 -0.250088   \n",
       "\n",
       "          7  \n",
       "0 -0.092116  \n",
       "1  0.653227  \n",
       "2 -0.256500  \n",
       "3  0.354148  \n",
       "4 -0.011798  "
      ]
     },
     "execution_count": 9,
     "metadata": {},
     "output_type": "execute_result"
    }
   ],
   "source": [
    "df = pd.DataFrame(data=np.random.normal(0, 1, (50, 8)))\n",
    "df.head()"
   ]
  },
  {
   "cell_type": "markdown",
   "metadata": {},
   "source": [
    "Fit the `PCA`."
   ]
  },
  {
   "cell_type": "code",
   "execution_count": 10,
   "metadata": {},
   "outputs": [
    {
     "data": {
      "text/plain": [
       "PCA(copy=True, iterated_power='auto', n_components=4, random_state=None,\n",
       "  svd_solver='auto', tol=0.0, whiten=False)"
      ]
     },
     "execution_count": 10,
     "metadata": {},
     "output_type": "execute_result"
    }
   ],
   "source": [
    "pca = PCA(n_components=4)\n",
    "pca.fit(df)"
   ]
  },
  {
   "cell_type": "markdown",
   "metadata": {},
   "source": [
    "Apply the transformation and convert the result into a `DataFrame`."
   ]
  },
  {
   "cell_type": "code",
   "execution_count": 14,
   "metadata": {},
   "outputs": [
    {
     "data": {
      "text/html": [
       "<div>\n",
       "<style>\n",
       "    .dataframe thead tr:only-child th {\n",
       "        text-align: right;\n",
       "    }\n",
       "\n",
       "    .dataframe thead th {\n",
       "        text-align: left;\n",
       "    }\n",
       "\n",
       "    .dataframe tbody tr th {\n",
       "        vertical-align: top;\n",
       "    }\n",
       "</style>\n",
       "<table border=\"1\" class=\"dataframe\">\n",
       "  <thead>\n",
       "    <tr style=\"text-align: right;\">\n",
       "      <th></th>\n",
       "      <th>pca_0</th>\n",
       "      <th>pca_1</th>\n",
       "      <th>pca_2</th>\n",
       "      <th>pca_3</th>\n",
       "    </tr>\n",
       "  </thead>\n",
       "  <tbody>\n",
       "    <tr>\n",
       "      <th>0</th>\n",
       "      <td>-0.546917</td>\n",
       "      <td>0.506951</td>\n",
       "      <td>-1.042971</td>\n",
       "      <td>0.287119</td>\n",
       "    </tr>\n",
       "    <tr>\n",
       "      <th>1</th>\n",
       "      <td>-0.054910</td>\n",
       "      <td>-0.217007</td>\n",
       "      <td>-0.539264</td>\n",
       "      <td>0.457777</td>\n",
       "    </tr>\n",
       "    <tr>\n",
       "      <th>2</th>\n",
       "      <td>0.908084</td>\n",
       "      <td>-0.113016</td>\n",
       "      <td>-0.602685</td>\n",
       "      <td>-1.009475</td>\n",
       "    </tr>\n",
       "    <tr>\n",
       "      <th>3</th>\n",
       "      <td>-0.168224</td>\n",
       "      <td>-1.419395</td>\n",
       "      <td>-1.216016</td>\n",
       "      <td>0.196382</td>\n",
       "    </tr>\n",
       "    <tr>\n",
       "      <th>4</th>\n",
       "      <td>0.678731</td>\n",
       "      <td>-0.605830</td>\n",
       "      <td>-0.057639</td>\n",
       "      <td>-0.428901</td>\n",
       "    </tr>\n",
       "  </tbody>\n",
       "</table>\n",
       "</div>"
      ],
      "text/plain": [
       "      pca_0     pca_1     pca_2     pca_3\n",
       "0 -0.546917  0.506951 -1.042971  0.287119\n",
       "1 -0.054910 -0.217007 -0.539264  0.457777\n",
       "2  0.908084 -0.113016 -0.602685 -1.009475\n",
       "3 -0.168224 -1.419395 -1.216016  0.196382\n",
       "4  0.678731 -0.605830 -0.057639 -0.428901"
      ]
     },
     "execution_count": 14,
     "metadata": {},
     "output_type": "execute_result"
    }
   ],
   "source": [
    "columns = ['pca_%i' % i for i in range(4)]\n",
    "df_pca = DataFrame(pca.transform(df), columns=columns, index=df.index)\n",
    "df_pca.head()"
   ]
  }
 ],
 "metadata": {
  "kernelspec": {
   "display_name": "Python 3",
   "language": "python",
   "name": "python3"
  },
  "language_info": {
   "codemirror_mode": {
    "name": "ipython",
    "version": 3
   },
   "file_extension": ".py",
   "mimetype": "text/x-python",
   "name": "python",
   "nbconvert_exporter": "python",
   "pygments_lexer": "ipython3",
   "version": "3.7.0"
  }
 },
 "nbformat": 4,
 "nbformat_minor": 1
}
