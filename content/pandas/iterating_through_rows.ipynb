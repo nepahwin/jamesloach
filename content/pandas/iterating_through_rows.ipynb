{
 "cells": [
  {
   "cell_type": "markdown",
   "metadata": {},
   "source": [
    "- Title: Iterating through rows in a DataFrame\n",
    "- Slug: iterating_through_rows\n",
    "- Summary: Iterating through rows in a pandas DataFrame using iterrows and itertuples\n",
    "- Date: 2017-08-13 12:00\n",
    "- Category: python\n",
    "- Tags: pandas\n",
    "- Authors: James Loach"
   ]
  },
  {
   "cell_type": "code",
   "execution_count": 2,
   "metadata": {},
   "outputs": [],
   "source": [
    "from pandas import DataFrame"
   ]
  },
  {
   "cell_type": "markdown",
   "metadata": {},
   "source": [
    "### iterrows\n",
    "\n",
    "Returns a generator that iterates over rows. Each row is returns as a Series. "
   ]
  },
  {
   "cell_type": "code",
   "execution_count": 3,
   "metadata": {},
   "outputs": [
    {
     "name": "stdout",
     "output_type": "stream",
     "text": [
      "0 0.11\n",
      "1 0.18\n",
      "2 0.05\n",
      "3 -0.01\n",
      "4 -0.42\n"
     ]
    }
   ],
   "source": [
    "df = DataFrame({'alpha': [0.11, 0.18, 0.05, -0.01, -0.42],\n",
    "                'beta':  [16.8, 27.6, -23.4, 4.0, 15.1],\n",
    "                'cls':   ['a', 'b', 'b', 'a', 'b']})\n",
    "\n",
    "for i, event in df.iterrows():\n",
    "    print(i, event['alpha'])"
   ]
  },
  {
   "cell_type": "markdown",
   "metadata": {},
   "source": [
    "### itertuples\n",
    "\n",
    "Returns a generator that iterates over rows. Each row is returned as a namedtuple."
   ]
  },
  {
   "cell_type": "code",
   "execution_count": 4,
   "metadata": {},
   "outputs": [
    {
     "name": "stdout",
     "output_type": "stream",
     "text": [
      "0.11 16.8\n",
      "0.18 27.6\n",
      "0.05 -23.4\n",
      "-0.01 4.0\n",
      "-0.42 15.1\n"
     ]
    }
   ],
   "source": [
    "df = DataFrame({'alpha': [0.11, 0.18, 0.05, -0.01, -0.42],\n",
    "                'beta':  [16.8, 27.6, -23.4, 4.0, 15.1],\n",
    "                'cls':   ['a', 'b', 'b', 'a', 'b']})\n",
    "\n",
    "for event in df.itertuples(index=False):\n",
    "    alpha, beta, cls = event\n",
    "    print(alpha, beta)\n",
    "    \n",
    "for event in df.itertuples(index=False, name='event'):\n",
    "    prod = event.alpha * event.beta"
   ]
  }
 ],
 "metadata": {
  "kernelspec": {
   "display_name": "Python 3",
   "language": "python",
   "name": "python3"
  },
  "language_info": {
   "codemirror_mode": {
    "name": "ipython",
    "version": 3
   },
   "file_extension": ".py",
   "mimetype": "text/x-python",
   "name": "python",
   "nbconvert_exporter": "python",
   "pygments_lexer": "ipython3",
   "version": "3.7.0"
  }
 },
 "nbformat": 4,
 "nbformat_minor": 1
}
