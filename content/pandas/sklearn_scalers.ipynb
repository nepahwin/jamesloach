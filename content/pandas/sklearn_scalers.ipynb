{
 "cells": [
  {
   "cell_type": "markdown",
   "metadata": {},
   "source": [
    "- Title: scikit-learn scalers in DataFrames\n",
    "- Slug: sklearn_scalers_in_dataframes\n",
    "- Summary: Using scikit-learn scalers in DataFrames in pandas DataFrames\n",
    "- Date: 2017-08-13\n",
    "- Category: python\n",
    "- Tags: pandas\n",
    "- Authors: James Loach"
   ]
  },
  {
   "cell_type": "code",
   "execution_count": 2,
   "metadata": {},
   "outputs": [
    {
     "data": {
      "text/html": [
       "<div>\n",
       "<style>\n",
       "    .dataframe thead tr:only-child th {\n",
       "        text-align: right;\n",
       "    }\n",
       "\n",
       "    .dataframe thead th {\n",
       "        text-align: left;\n",
       "    }\n",
       "\n",
       "    .dataframe tbody tr th {\n",
       "        vertical-align: top;\n",
       "    }\n",
       "</style>\n",
       "<table border=\"1\" class=\"dataframe\">\n",
       "  <thead>\n",
       "    <tr style=\"text-align: right;\">\n",
       "      <th></th>\n",
       "      <th>alpha</th>\n",
       "      <th>beta</th>\n",
       "      <th>cls</th>\n",
       "    </tr>\n",
       "  </thead>\n",
       "  <tbody>\n",
       "    <tr>\n",
       "      <th>0</th>\n",
       "      <td>0.607625</td>\n",
       "      <td>0.504570</td>\n",
       "      <td>a</td>\n",
       "    </tr>\n",
       "    <tr>\n",
       "      <th>1</th>\n",
       "      <td>0.939920</td>\n",
       "      <td>1.125225</td>\n",
       "      <td>b</td>\n",
       "    </tr>\n",
       "    <tr>\n",
       "      <th>2</th>\n",
       "      <td>0.322801</td>\n",
       "      <td>-1.805647</td>\n",
       "      <td>b</td>\n",
       "    </tr>\n",
       "    <tr>\n",
       "      <th>3</th>\n",
       "      <td>0.037977</td>\n",
       "      <td>-0.231022</td>\n",
       "      <td>a</td>\n",
       "    </tr>\n",
       "    <tr>\n",
       "      <th>4</th>\n",
       "      <td>-1.908323</td>\n",
       "      <td>0.406874</td>\n",
       "      <td>b</td>\n",
       "    </tr>\n",
       "  </tbody>\n",
       "</table>\n",
       "</div>"
      ],
      "text/plain": [
       "      alpha      beta cls\n",
       "0  0.607625  0.504570   a\n",
       "1  0.939920  1.125225   b\n",
       "2  0.322801 -1.805647   b\n",
       "3  0.037977 -0.231022   a\n",
       "4 -1.908323  0.406874   b"
      ]
     },
     "execution_count": 2,
     "metadata": {},
     "output_type": "execute_result"
    }
   ],
   "source": [
    "import pandas as pd\n",
    "from sklearn.preprocessing import StandardScaler\n",
    "\n",
    "scaler = StandardScaler()\n",
    "\n",
    "df = pd.DataFrame({'alpha': [0.11, 0.18, 0.05, -0.01, -0.42],\n",
    "                   'beta':  [16.8, 27.6, -23.4, 4.0, 15.1],\n",
    "                   'cls':   ['a', 'b', 'b', 'a', 'b']})\n",
    "\n",
    "df[['alpha', 'beta']] = scaler.fit_transform(df[['alpha', 'beta']])\n",
    "\n",
    "df"
   ]
  }
 ],
 "metadata": {
  "kernelspec": {
   "display_name": "Python 3",
   "language": "python",
   "name": "python3"
  },
  "language_info": {
   "codemirror_mode": {
    "name": "ipython",
    "version": 3
   },
   "file_extension": ".py",
   "mimetype": "text/x-python",
   "name": "python",
   "nbconvert_exporter": "python",
   "pygments_lexer": "ipython3",
   "version": "3.7.0"
  }
 },
 "nbformat": 4,
 "nbformat_minor": 1
}
