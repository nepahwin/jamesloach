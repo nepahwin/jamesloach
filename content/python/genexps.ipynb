{
 "cells": [
  {
   "cell_type": "markdown",
   "metadata": {},
   "source": [
    "- Title: Generator expressions\n",
    "- Slug: genexps\n",
    "- Summary: Python generator expressions\n",
    "- Date: 2017-04-20\n",
    "- Category: python\n",
    "- Tags: general\n",
    "- Authors: James Loach"
   ]
  },
  {
   "cell_type": "markdown",
   "metadata": {},
   "source": [
    "A genexp is a convenient way to make a generator."
   ]
  },
  {
   "cell_type": "code",
   "execution_count": 1,
   "metadata": {},
   "outputs": [
    {
     "name": "stdout",
     "output_type": "stream",
     "text": [
      "Church Going\n",
      "The Whitsun Weddings\n",
      "An Arundel Tomb\n"
     ]
    }
   ],
   "source": [
    "larkin_poems = ['church going', 'the whitsun weddings', 'an arundel tomb', 'aubade']\n",
    "title = (poem.title() for poem in larkin_poems)\n",
    "print(next(title))\n",
    "print(next(title))\n",
    "print(next(title))"
   ]
  },
  {
   "cell_type": "markdown",
   "metadata": {},
   "source": [
    "Build sets and dicts without building intermediate lists."
   ]
  },
  {
   "cell_type": "code",
   "execution_count": 2,
   "metadata": {
    "collapsed": true
   },
   "outputs": [],
   "source": [
    "a = set(char for char in 'Loveliest of trees, the cherry now')\n",
    "b = dict((x, x**2) for x in range(9))"
   ]
  },
  {
   "cell_type": "markdown",
   "metadata": {},
   "source": [
    "Sometimes avoiding the intermediate lists can save significant amounts of memory (relative to listcomps)."
   ]
  },
  {
   "cell_type": "code",
   "execution_count": 11,
   "metadata": {},
   "outputs": [],
   "source": [
    "sum_listcomp = sum([x*x for x in range(10000000)])\n",
    "sum_genexp = sum(x*x for x in range(10000000))"
   ]
  }
 ],
 "metadata": {
  "kernelspec": {
   "display_name": "Python 3",
   "language": "python",
   "name": "python3"
  },
  "language_info": {
   "codemirror_mode": {
    "name": "ipython",
    "version": 3
   },
   "file_extension": ".py",
   "mimetype": "text/x-python",
   "name": "python",
   "nbconvert_exporter": "python",
   "pygments_lexer": "ipython3",
   "version": "3.7.0"
  }
 },
 "nbformat": 4,
 "nbformat_minor": 1
}
