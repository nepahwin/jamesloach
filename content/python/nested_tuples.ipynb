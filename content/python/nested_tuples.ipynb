{
 "cells": [
  {
   "cell_type": "markdown",
   "metadata": {},
   "source": [
    "- Title: Nested tuples\n",
    "- Slug: nested_tuples\n",
    "- Summary: Python nested tuples\n",
    "- Date: 2017-04-19\n",
    "- Category: python\n",
    "- Tags: general\n",
    "- Authors: James Loach"
   ]
  },
  {
   "cell_type": "markdown",
   "metadata": {},
   "source": [
    "A nested tuple can be easily unpacked."
   ]
  },
  {
   "cell_type": "code",
   "execution_count": 9,
   "metadata": {
    "collapsed": true
   },
   "outputs": [],
   "source": [
    "buried_treasure = [('Gold plate', 1145, (34.501, -45.234)), \n",
    "                   ('Sword', 1156, (34.545, -45.101)), \n",
    "                   ('Ring', 1323, (34.547, -45.044))]"
   ]
  },
  {
   "cell_type": "code",
   "execution_count": 10,
   "metadata": {},
   "outputs": [
    {
     "name": "stdout",
     "output_type": "stream",
     "text": [
      "AD 1145 : 34.501 -45.234\n",
      "AD 1156 : 34.545 -45.101\n",
      "AD 1323 : 34.547 -45.044\n"
     ]
    }
   ],
   "source": [
    "for _, year, (lat, long) in buried_treasure:\n",
    "    print('AD', year, ':', lat, long)"
   ]
  }
 ],
 "metadata": {
  "kernelspec": {
   "display_name": "Python 3",
   "language": "python",
   "name": "python3"
  },
  "language_info": {
   "codemirror_mode": {
    "name": "ipython",
    "version": 3
   },
   "file_extension": ".py",
   "mimetype": "text/x-python",
   "name": "python",
   "nbconvert_exporter": "python",
   "pygments_lexer": "ipython3",
   "version": "3.7.0"
  }
 },
 "nbformat": 4,
 "nbformat_minor": 1
}
