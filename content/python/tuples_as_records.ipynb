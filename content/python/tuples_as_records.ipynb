{
 "cells": [
  {
   "cell_type": "markdown",
   "metadata": {},
   "source": [
    "- Title: tuples as records\n",
    "- Slug: tuples_as_records\n",
    "- Summary: Python tuples as records\n",
    "- Date: 2017-04-19\n",
    "- Category: python\n",
    "- Tags: general\n",
    "- Authors: James Loach"
   ]
  },
  {
   "cell_type": "markdown",
   "metadata": {},
   "source": [
    "tuples can be used as simple records."
   ]
  },
  {
   "cell_type": "code",
   "execution_count": 1,
   "metadata": {
    "collapsed": true
   },
   "outputs": [],
   "source": [
    "volunteers = [('Bob', 36, 'M'), \n",
    "              ('Alice', 27, 'F'), \n",
    "              ('Eve', 41, 'F')]"
   ]
  },
  {
   "cell_type": "code",
   "execution_count": 2,
   "metadata": {},
   "outputs": [
    {
     "name": "stdout",
     "output_type": "stream",
     "text": [
      "Alice/27/F\n",
      "Bob/36/M\n",
      "Eve/41/F\n"
     ]
    }
   ],
   "source": [
    "for hero in sorted(volunteers):\n",
    "    print('%s/%d/%s' % hero)"
   ]
  }
 ],
 "metadata": {
  "kernelspec": {
   "display_name": "Python 3",
   "language": "python",
   "name": "python3"
  },
  "language_info": {
   "codemirror_mode": {
    "name": "ipython",
    "version": 3
   },
   "file_extension": ".py",
   "mimetype": "text/x-python",
   "name": "python",
   "nbconvert_exporter": "python",
   "pygments_lexer": "ipython3",
   "version": "3.7.0"
  }
 },
 "nbformat": 4,
 "nbformat_minor": 1
}
