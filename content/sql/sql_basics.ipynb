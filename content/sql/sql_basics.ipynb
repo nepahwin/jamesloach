{
 "cells": [
  {
   "cell_type": "markdown",
   "metadata": {},
   "source": [
    "- Title: SQL basics\n",
    "- Slug: sql_basics\n",
    "- Summary: SQL basics\n",
    "- Date: 2017-04-03 12:00\n",
    "- Category: misc\n",
    "- Tags: sql\n",
    "- Authors: James Loach"
   ]
  },
  {
   "cell_type": "markdown",
   "metadata": {},
   "source": [
    "### Setup"
   ]
  },
  {
   "cell_type": "markdown",
   "metadata": {},
   "source": [
    "* Download ipython-sql from [here](https://github.com/catherinedevlin/ipython-sql) \n",
    "or use `pip install ipython-sql`\n",
    "* Download Iris dataset in `csv` format from [here](https://archive.ics.uci.edu/ml/datasets/Iris)\n",
    "* Install `postgresql` locally"
   ]
  },
  {
   "cell_type": "code",
   "execution_count": 1,
   "metadata": {},
   "outputs": [],
   "source": [
    "import pandas as pd\n",
    "from pandas import DataFrame"
   ]
  },
  {
   "cell_type": "code",
   "execution_count": 2,
   "metadata": {},
   "outputs": [
    {
     "data": {
      "text/plain": [
       "'Connected: jloach@'"
      ]
     },
     "execution_count": 2,
     "metadata": {},
     "output_type": "execute_result"
    }
   ],
   "source": [
    "%load_ext sql\n",
    "%config SqlMagic.feedback = False\n",
    "%sql postgresql://jloach@/"
   ]
  },
  {
   "cell_type": "markdown",
   "metadata": {},
   "source": [
    "Make a database to play with"
   ]
  },
  {
   "cell_type": "code",
   "execution_count": 3,
   "metadata": {},
   "outputs": [
    {
     "data": {
      "text/plain": [
       "[]"
      ]
     },
     "execution_count": 3,
     "metadata": {},
     "output_type": "execute_result"
    }
   ],
   "source": [
    "%%sql\n",
    "DROP TABLE parishes; -- Delete existing table under this name\n",
    "CREATE TABLE parishes(\n",
    "  id          INT PRIMARY KEY NOT NULL, \n",
    "  name        TEXT,\n",
    "  population  INT,\n",
    "  loc_n       REAL,\n",
    "  loc_w       REAL\n",
    ");\n",
    "INSERT INTO parishes VALUES (1, 'Blymhill & Weston-under-Lizard', 823, 52.702, 2.284);\n",
    "INSERT INTO parishes VALUES (2, 'Lapley, Stretton and Wheaton Aston', 2548, 52.71, 2.2);\n",
    "INSERT INTO parishes VALUES (3, 'Church Eaton', 680, 52.757, 2.222);\n",
    "INSERT INTO parishes VALUES (4, 'Penkridge', 8526, NULL, NULL);\n",
    "INSERT INTO parishes VALUES (5, 'Sheriffhales', 722, NULL, NULL);"
   ]
  },
  {
   "cell_type": "markdown",
   "metadata": {},
   "source": [
    "### SELECT"
   ]
  },
  {
   "cell_type": "code",
   "execution_count": 4,
   "metadata": {},
   "outputs": [
    {
     "data": {
      "text/html": [
       "<table>\n",
       "    <tr>\n",
       "        <th>id</th>\n",
       "        <th>name</th>\n",
       "        <th>population</th>\n",
       "        <th>loc_n</th>\n",
       "        <th>loc_w</th>\n",
       "    </tr>\n",
       "    <tr>\n",
       "        <td>1</td>\n",
       "        <td>Blymhill &amp; Weston-under-Lizard</td>\n",
       "        <td>823</td>\n",
       "        <td>52.702</td>\n",
       "        <td>2.284</td>\n",
       "    </tr>\n",
       "    <tr>\n",
       "        <td>2</td>\n",
       "        <td>Lapley, Stretton and Wheaton Aston</td>\n",
       "        <td>2548</td>\n",
       "        <td>52.71</td>\n",
       "        <td>2.2</td>\n",
       "    </tr>\n",
       "    <tr>\n",
       "        <td>3</td>\n",
       "        <td>Church Eaton</td>\n",
       "        <td>680</td>\n",
       "        <td>52.757</td>\n",
       "        <td>2.222</td>\n",
       "    </tr>\n",
       "    <tr>\n",
       "        <td>4</td>\n",
       "        <td>Penkridge</td>\n",
       "        <td>8526</td>\n",
       "        <td>None</td>\n",
       "        <td>None</td>\n",
       "    </tr>\n",
       "    <tr>\n",
       "        <td>5</td>\n",
       "        <td>Sheriffhales</td>\n",
       "        <td>722</td>\n",
       "        <td>None</td>\n",
       "        <td>None</td>\n",
       "    </tr>\n",
       "</table>"
      ],
      "text/plain": [
       "[(1, 'Blymhill & Weston-under-Lizard', 823, 52.702, 2.284),\n",
       " (2, 'Lapley, Stretton and Wheaton Aston', 2548, 52.71, 2.2),\n",
       " (3, 'Church Eaton', 680, 52.757, 2.222),\n",
       " (4, 'Penkridge', 8526, None, None),\n",
       " (5, 'Sheriffhales', 722, None, None)]"
      ]
     },
     "execution_count": 4,
     "metadata": {},
     "output_type": "execute_result"
    }
   ],
   "source": [
    "%sql SELECT * FROM parishes"
   ]
  },
  {
   "cell_type": "code",
   "execution_count": 5,
   "metadata": {},
   "outputs": [
    {
     "data": {
      "text/html": [
       "<table>\n",
       "    <tr>\n",
       "        <th>Parish</th>\n",
       "        <th>Population</th>\n",
       "    </tr>\n",
       "    <tr>\n",
       "        <td>Blymhill &amp; Weston-under-Lizard</td>\n",
       "        <td>823</td>\n",
       "    </tr>\n",
       "    <tr>\n",
       "        <td>Lapley, Stretton and Wheaton Aston</td>\n",
       "        <td>2548</td>\n",
       "    </tr>\n",
       "    <tr>\n",
       "        <td>Church Eaton</td>\n",
       "        <td>680</td>\n",
       "    </tr>\n",
       "    <tr>\n",
       "        <td>Penkridge</td>\n",
       "        <td>8526</td>\n",
       "    </tr>\n",
       "    <tr>\n",
       "        <td>Sheriffhales</td>\n",
       "        <td>722</td>\n",
       "    </tr>\n",
       "</table>"
      ],
      "text/plain": [
       "[('Blymhill & Weston-under-Lizard', 823),\n",
       " ('Lapley, Stretton and Wheaton Aston', 2548),\n",
       " ('Church Eaton', 680),\n",
       " ('Penkridge', 8526),\n",
       " ('Sheriffhales', 722)]"
      ]
     },
     "execution_count": 5,
     "metadata": {},
     "output_type": "execute_result"
    }
   ],
   "source": [
    "%%sql\n",
    "SELECT name as \"Parish\",\n",
    "       population as \"Population\" \n",
    "  FROM parishes"
   ]
  },
  {
   "cell_type": "code",
   "execution_count": 6,
   "metadata": {},
   "outputs": [
    {
     "data": {
      "text/html": [
       "<table>\n",
       "    <tr>\n",
       "        <th>Parish</th>\n",
       "        <th>Population/10</th>\n",
       "    </tr>\n",
       "    <tr>\n",
       "        <td>Blymhill &amp; Weston-under-Lizard</td>\n",
       "        <td>82</td>\n",
       "    </tr>\n",
       "    <tr>\n",
       "        <td>Lapley, Stretton and Wheaton Aston</td>\n",
       "        <td>255</td>\n",
       "    </tr>\n",
       "    <tr>\n",
       "        <td>Church Eaton</td>\n",
       "        <td>68</td>\n",
       "    </tr>\n",
       "    <tr>\n",
       "        <td>Penkridge</td>\n",
       "        <td>853</td>\n",
       "    </tr>\n",
       "    <tr>\n",
       "        <td>Sheriffhales</td>\n",
       "        <td>72</td>\n",
       "    </tr>\n",
       "</table>"
      ],
      "text/plain": [
       "[('Blymhill & Weston-under-Lizard', Decimal('82')),\n",
       " ('Lapley, Stretton and Wheaton Aston', Decimal('255')),\n",
       " ('Church Eaton', Decimal('68')),\n",
       " ('Penkridge', Decimal('853')),\n",
       " ('Sheriffhales', Decimal('72'))]"
      ]
     },
     "execution_count": 6,
     "metadata": {},
     "output_type": "execute_result"
    }
   ],
   "source": [
    "%%sql\n",
    "SELECT name as \"Parish\",\n",
    "       ROUND(population/10.) as \"Population/10\" \n",
    "  FROM parishes"
   ]
  },
  {
   "cell_type": "markdown",
   "metadata": {},
   "source": [
    "### LIMIT"
   ]
  },
  {
   "cell_type": "code",
   "execution_count": 7,
   "metadata": {},
   "outputs": [
    {
     "data": {
      "text/html": [
       "<table>\n",
       "    <tr>\n",
       "        <th>id</th>\n",
       "        <th>name</th>\n",
       "        <th>population</th>\n",
       "        <th>loc_n</th>\n",
       "        <th>loc_w</th>\n",
       "    </tr>\n",
       "    <tr>\n",
       "        <td>1</td>\n",
       "        <td>Blymhill &amp; Weston-under-Lizard</td>\n",
       "        <td>823</td>\n",
       "        <td>52.702</td>\n",
       "        <td>2.284</td>\n",
       "    </tr>\n",
       "    <tr>\n",
       "        <td>2</td>\n",
       "        <td>Lapley, Stretton and Wheaton Aston</td>\n",
       "        <td>2548</td>\n",
       "        <td>52.71</td>\n",
       "        <td>2.2</td>\n",
       "    </tr>\n",
       "</table>"
      ],
      "text/plain": [
       "[(1, 'Blymhill & Weston-under-Lizard', 823, 52.702, 2.284),\n",
       " (2, 'Lapley, Stretton and Wheaton Aston', 2548, 52.71, 2.2)]"
      ]
     },
     "execution_count": 7,
     "metadata": {},
     "output_type": "execute_result"
    }
   ],
   "source": [
    "%%sql\n",
    "SELECT *\n",
    "  FROM parishes \n",
    " LIMIT 2"
   ]
  },
  {
   "cell_type": "markdown",
   "metadata": {},
   "source": [
    "### WHERE"
   ]
  },
  {
   "cell_type": "code",
   "execution_count": 8,
   "metadata": {},
   "outputs": [
    {
     "data": {
      "text/html": [
       "<table>\n",
       "    <tr>\n",
       "        <th>id</th>\n",
       "        <th>name</th>\n",
       "        <th>population</th>\n",
       "        <th>loc_n</th>\n",
       "        <th>loc_w</th>\n",
       "    </tr>\n",
       "    <tr>\n",
       "        <td>2</td>\n",
       "        <td>Lapley, Stretton and Wheaton Aston</td>\n",
       "        <td>2548</td>\n",
       "        <td>52.71</td>\n",
       "        <td>2.2</td>\n",
       "    </tr>\n",
       "    <tr>\n",
       "        <td>4</td>\n",
       "        <td>Penkridge</td>\n",
       "        <td>8526</td>\n",
       "        <td>None</td>\n",
       "        <td>None</td>\n",
       "    </tr>\n",
       "</table>"
      ],
      "text/plain": [
       "[(2, 'Lapley, Stretton and Wheaton Aston', 2548, 52.71, 2.2),\n",
       " (4, 'Penkridge', 8526, None, None)]"
      ]
     },
     "execution_count": 8,
     "metadata": {},
     "output_type": "execute_result"
    }
   ],
   "source": [
    "%%sql\n",
    "SELECT * \n",
    "  FROM parishes\n",
    " WHERE population > 1000"
   ]
  },
  {
   "cell_type": "code",
   "execution_count": 9,
   "metadata": {},
   "outputs": [
    {
     "data": {
      "text/html": [
       "<table>\n",
       "    <tr>\n",
       "        <th>id</th>\n",
       "        <th>name</th>\n",
       "        <th>population</th>\n",
       "        <th>loc_n</th>\n",
       "        <th>loc_w</th>\n",
       "    </tr>\n",
       "    <tr>\n",
       "        <td>2</td>\n",
       "        <td>Lapley, Stretton and Wheaton Aston</td>\n",
       "        <td>2548</td>\n",
       "        <td>52.71</td>\n",
       "        <td>2.2</td>\n",
       "    </tr>\n",
       "    <tr>\n",
       "        <td>4</td>\n",
       "        <td>Penkridge</td>\n",
       "        <td>8526</td>\n",
       "        <td>None</td>\n",
       "        <td>None</td>\n",
       "    </tr>\n",
       "    <tr>\n",
       "        <td>5</td>\n",
       "        <td>Sheriffhales</td>\n",
       "        <td>722</td>\n",
       "        <td>None</td>\n",
       "        <td>None</td>\n",
       "    </tr>\n",
       "</table>"
      ],
      "text/plain": [
       "[(2, 'Lapley, Stretton and Wheaton Aston', 2548, 52.71, 2.2),\n",
       " (4, 'Penkridge', 8526, None, None),\n",
       " (5, 'Sheriffhales', 722, None, None)]"
      ]
     },
     "execution_count": 9,
     "metadata": {},
     "output_type": "execute_result"
    }
   ],
   "source": [
    "%%sql\n",
    "SELECT * \n",
    "  FROM parishes \n",
    " WHERE name > 'L'"
   ]
  },
  {
   "cell_type": "markdown",
   "metadata": {},
   "source": [
    "### `LIKE` / `ILIKE`"
   ]
  },
  {
   "cell_type": "code",
   "execution_count": 10,
   "metadata": {},
   "outputs": [
    {
     "data": {
      "text/html": [
       "<table>\n",
       "    <tr>\n",
       "        <th>id</th>\n",
       "        <th>name</th>\n",
       "        <th>population</th>\n",
       "        <th>loc_n</th>\n",
       "        <th>loc_w</th>\n",
       "    </tr>\n",
       "    <tr>\n",
       "        <td>1</td>\n",
       "        <td>Blymhill &amp; Weston-under-Lizard</td>\n",
       "        <td>823</td>\n",
       "        <td>52.702</td>\n",
       "        <td>2.284</td>\n",
       "    </tr>\n",
       "</table>"
      ],
      "text/plain": [
       "[(1, 'Blymhill & Weston-under-Lizard', 823, 52.702, 2.284)]"
      ]
     },
     "execution_count": 10,
     "metadata": {},
     "output_type": "execute_result"
    }
   ],
   "source": [
    "%%sql\n",
    "SELECT * \n",
    "  FROM parishes \n",
    " WHERE name \n",
    "  LIKE 'B%'"
   ]
  },
  {
   "cell_type": "code",
   "execution_count": 11,
   "metadata": {},
   "outputs": [
    {
     "data": {
      "text/html": [
       "<table>\n",
       "    <tr>\n",
       "        <th>id</th>\n",
       "        <th>name</th>\n",
       "        <th>population</th>\n",
       "        <th>loc_n</th>\n",
       "        <th>loc_w</th>\n",
       "    </tr>\n",
       "    <tr>\n",
       "        <td>4</td>\n",
       "        <td>Penkridge</td>\n",
       "        <td>8526</td>\n",
       "        <td>None</td>\n",
       "        <td>None</td>\n",
       "    </tr>\n",
       "</table>"
      ],
      "text/plain": [
       "[(4, 'Penkridge', 8526, None, None)]"
      ]
     },
     "execution_count": 11,
     "metadata": {},
     "output_type": "execute_result"
    }
   ],
   "source": [
    "%%sql\n",
    "SELECT * \n",
    "  FROM parishes \n",
    " WHERE name \n",
    "  LIKE 'P_______e'"
   ]
  },
  {
   "cell_type": "code",
   "execution_count": 12,
   "metadata": {},
   "outputs": [
    {
     "data": {
      "text/html": [
       "<table>\n",
       "    <tr>\n",
       "        <th>id</th>\n",
       "        <th>name</th>\n",
       "        <th>population</th>\n",
       "        <th>loc_n</th>\n",
       "        <th>loc_w</th>\n",
       "    </tr>\n",
       "    <tr>\n",
       "        <td>1</td>\n",
       "        <td>Blymhill &amp; Weston-under-Lizard</td>\n",
       "        <td>823</td>\n",
       "        <td>52.702</td>\n",
       "        <td>2.284</td>\n",
       "    </tr>\n",
       "</table>"
      ],
      "text/plain": [
       "[(1, 'Blymhill & Weston-under-Lizard', 823, 52.702, 2.284)]"
      ]
     },
     "execution_count": 12,
     "metadata": {},
     "output_type": "execute_result"
    }
   ],
   "source": [
    "%%sql\n",
    "SELECT * \n",
    "  FROM parishes \n",
    " WHERE name \n",
    " ILIKE 'b%'"
   ]
  },
  {
   "cell_type": "markdown",
   "metadata": {},
   "source": [
    "### IN"
   ]
  },
  {
   "cell_type": "code",
   "execution_count": 13,
   "metadata": {},
   "outputs": [
    {
     "data": {
      "text/html": [
       "<table>\n",
       "    <tr>\n",
       "        <th>id</th>\n",
       "        <th>name</th>\n",
       "        <th>population</th>\n",
       "        <th>loc_n</th>\n",
       "        <th>loc_w</th>\n",
       "    </tr>\n",
       "    <tr>\n",
       "        <td>3</td>\n",
       "        <td>Church Eaton</td>\n",
       "        <td>680</td>\n",
       "        <td>52.757</td>\n",
       "        <td>2.222</td>\n",
       "    </tr>\n",
       "    <tr>\n",
       "        <td>4</td>\n",
       "        <td>Penkridge</td>\n",
       "        <td>8526</td>\n",
       "        <td>None</td>\n",
       "        <td>None</td>\n",
       "    </tr>\n",
       "</table>"
      ],
      "text/plain": [
       "[(3, 'Church Eaton', 680, 52.757, 2.222), (4, 'Penkridge', 8526, None, None)]"
      ]
     },
     "execution_count": 13,
     "metadata": {},
     "output_type": "execute_result"
    }
   ],
   "source": [
    "%%sql\n",
    "SELECT * \n",
    "  FROM parishes \n",
    " WHERE name IN ('Penkridge', 'Church Eaton')"
   ]
  },
  {
   "cell_type": "markdown",
   "metadata": {},
   "source": [
    "### BETWEEN"
   ]
  },
  {
   "cell_type": "code",
   "execution_count": 14,
   "metadata": {},
   "outputs": [
    {
     "data": {
      "text/html": [
       "<table>\n",
       "    <tr>\n",
       "        <th>id</th>\n",
       "        <th>name</th>\n",
       "        <th>population</th>\n",
       "        <th>loc_n</th>\n",
       "        <th>loc_w</th>\n",
       "    </tr>\n",
       "    <tr>\n",
       "        <td>1</td>\n",
       "        <td>Blymhill &amp; Weston-under-Lizard</td>\n",
       "        <td>823</td>\n",
       "        <td>52.702</td>\n",
       "        <td>2.284</td>\n",
       "    </tr>\n",
       "    <tr>\n",
       "        <td>3</td>\n",
       "        <td>Church Eaton</td>\n",
       "        <td>680</td>\n",
       "        <td>52.757</td>\n",
       "        <td>2.222</td>\n",
       "    </tr>\n",
       "    <tr>\n",
       "        <td>5</td>\n",
       "        <td>Sheriffhales</td>\n",
       "        <td>722</td>\n",
       "        <td>None</td>\n",
       "        <td>None</td>\n",
       "    </tr>\n",
       "</table>"
      ],
      "text/plain": [
       "[(1, 'Blymhill & Weston-under-Lizard', 823, 52.702, 2.284),\n",
       " (3, 'Church Eaton', 680, 52.757, 2.222),\n",
       " (5, 'Sheriffhales', 722, None, None)]"
      ]
     },
     "execution_count": 14,
     "metadata": {},
     "output_type": "execute_result"
    }
   ],
   "source": [
    "%%sql\n",
    "SELECT * \n",
    "  FROM parishes \n",
    " WHERE population BETWEEN 500 AND 2000"
   ]
  },
  {
   "cell_type": "markdown",
   "metadata": {},
   "source": [
    "### NULL"
   ]
  },
  {
   "cell_type": "code",
   "execution_count": 15,
   "metadata": {},
   "outputs": [
    {
     "data": {
      "text/html": [
       "<table>\n",
       "    <tr>\n",
       "        <th>id</th>\n",
       "        <th>name</th>\n",
       "        <th>population</th>\n",
       "        <th>loc_n</th>\n",
       "        <th>loc_w</th>\n",
       "    </tr>\n",
       "    <tr>\n",
       "        <td>4</td>\n",
       "        <td>Penkridge</td>\n",
       "        <td>8526</td>\n",
       "        <td>None</td>\n",
       "        <td>None</td>\n",
       "    </tr>\n",
       "    <tr>\n",
       "        <td>5</td>\n",
       "        <td>Sheriffhales</td>\n",
       "        <td>722</td>\n",
       "        <td>None</td>\n",
       "        <td>None</td>\n",
       "    </tr>\n",
       "</table>"
      ],
      "text/plain": [
       "[(4, 'Penkridge', 8526, None, None), (5, 'Sheriffhales', 722, None, None)]"
      ]
     },
     "execution_count": 15,
     "metadata": {},
     "output_type": "execute_result"
    }
   ],
   "source": [
    "%%sql\n",
    "SELECT *\n",
    "  FROM parishes \n",
    " WHERE loc_n IS NULL"
   ]
  },
  {
   "cell_type": "markdown",
   "metadata": {},
   "source": [
    "### OR / AND / NOT"
   ]
  },
  {
   "cell_type": "code",
   "execution_count": 16,
   "metadata": {},
   "outputs": [
    {
     "data": {
      "text/html": [
       "<table>\n",
       "    <tr>\n",
       "        <th>id</th>\n",
       "        <th>name</th>\n",
       "        <th>population</th>\n",
       "        <th>loc_n</th>\n",
       "        <th>loc_w</th>\n",
       "    </tr>\n",
       "    <tr>\n",
       "        <td>3</td>\n",
       "        <td>Church Eaton</td>\n",
       "        <td>680</td>\n",
       "        <td>52.757</td>\n",
       "        <td>2.222</td>\n",
       "    </tr>\n",
       "</table>"
      ],
      "text/plain": [
       "[(3, 'Church Eaton', 680, 52.757, 2.222)]"
      ]
     },
     "execution_count": 16,
     "metadata": {},
     "output_type": "execute_result"
    }
   ],
   "source": [
    "%%sql\n",
    "SELECT * \n",
    "  FROM parishes \n",
    " WHERE (name LIKE 'P%' OR population < 800) AND NOT loc_n IS NULL"
   ]
  },
  {
   "cell_type": "markdown",
   "metadata": {},
   "source": [
    "### ORDER BY / DESC"
   ]
  },
  {
   "cell_type": "code",
   "execution_count": 17,
   "metadata": {},
   "outputs": [
    {
     "data": {
      "text/html": [
       "<table>\n",
       "    <tr>\n",
       "        <th>id</th>\n",
       "        <th>name</th>\n",
       "        <th>population</th>\n",
       "        <th>loc_n</th>\n",
       "        <th>loc_w</th>\n",
       "    </tr>\n",
       "    <tr>\n",
       "        <td>4</td>\n",
       "        <td>Penkridge</td>\n",
       "        <td>8526</td>\n",
       "        <td>None</td>\n",
       "        <td>None</td>\n",
       "    </tr>\n",
       "    <tr>\n",
       "        <td>2</td>\n",
       "        <td>Lapley, Stretton and Wheaton Aston</td>\n",
       "        <td>2548</td>\n",
       "        <td>52.71</td>\n",
       "        <td>2.2</td>\n",
       "    </tr>\n",
       "    <tr>\n",
       "        <td>1</td>\n",
       "        <td>Blymhill &amp; Weston-under-Lizard</td>\n",
       "        <td>823</td>\n",
       "        <td>52.702</td>\n",
       "        <td>2.284</td>\n",
       "    </tr>\n",
       "    <tr>\n",
       "        <td>5</td>\n",
       "        <td>Sheriffhales</td>\n",
       "        <td>722</td>\n",
       "        <td>None</td>\n",
       "        <td>None</td>\n",
       "    </tr>\n",
       "    <tr>\n",
       "        <td>3</td>\n",
       "        <td>Church Eaton</td>\n",
       "        <td>680</td>\n",
       "        <td>52.757</td>\n",
       "        <td>2.222</td>\n",
       "    </tr>\n",
       "</table>"
      ],
      "text/plain": [
       "[(4, 'Penkridge', 8526, None, None),\n",
       " (2, 'Lapley, Stretton and Wheaton Aston', 2548, 52.71, 2.2),\n",
       " (1, 'Blymhill & Weston-under-Lizard', 823, 52.702, 2.284),\n",
       " (5, 'Sheriffhales', 722, None, None),\n",
       " (3, 'Church Eaton', 680, 52.757, 2.222)]"
      ]
     },
     "execution_count": 17,
     "metadata": {},
     "output_type": "execute_result"
    }
   ],
   "source": [
    "%%sql\n",
    "SELECT *\n",
    "  FROM parishes\n",
    " ORDER BY population DESC"
   ]
  },
  {
   "cell_type": "code",
   "execution_count": 18,
   "metadata": {},
   "outputs": [
    {
     "data": {
      "text/html": [
       "<table>\n",
       "    <tr>\n",
       "        <th>name</th>\n",
       "        <th>population</th>\n",
       "    </tr>\n",
       "    <tr>\n",
       "        <td>Church Eaton</td>\n",
       "        <td>680</td>\n",
       "    </tr>\n",
       "    <tr>\n",
       "        <td>Sheriffhales</td>\n",
       "        <td>722</td>\n",
       "    </tr>\n",
       "    <tr>\n",
       "        <td>Blymhill &amp; Weston-under-Lizard</td>\n",
       "        <td>823</td>\n",
       "    </tr>\n",
       "    <tr>\n",
       "        <td>Lapley, Stretton and Wheaton Aston</td>\n",
       "        <td>2548</td>\n",
       "    </tr>\n",
       "    <tr>\n",
       "        <td>Penkridge</td>\n",
       "        <td>8526</td>\n",
       "    </tr>\n",
       "</table>"
      ],
      "text/plain": [
       "[('Church Eaton', 680),\n",
       " ('Sheriffhales', 722),\n",
       " ('Blymhill & Weston-under-Lizard', 823),\n",
       " ('Lapley, Stretton and Wheaton Aston', 2548),\n",
       " ('Penkridge', 8526)]"
      ]
     },
     "execution_count": 18,
     "metadata": {},
     "output_type": "execute_result"
    }
   ],
   "source": [
    "%%sql\n",
    "SELECT name, population\n",
    "  FROM parishes\n",
    " ORDER BY 2 -- Doesn't' work in all SQL variants "
   ]
  },
  {
   "cell_type": "code",
   "execution_count": 19,
   "metadata": {},
   "outputs": [
    {
     "data": {
      "text/html": [
       "<table>\n",
       "    <tr>\n",
       "        <th>name</th>\n",
       "        <th>population</th>\n",
       "        <th>loc_n</th>\n",
       "    </tr>\n",
       "    <tr>\n",
       "        <td>Church Eaton</td>\n",
       "        <td>680</td>\n",
       "        <td>52.757</td>\n",
       "    </tr>\n",
       "    <tr>\n",
       "        <td>Sheriffhales</td>\n",
       "        <td>722</td>\n",
       "        <td>None</td>\n",
       "    </tr>\n",
       "    <tr>\n",
       "        <td>Blymhill &amp; Weston-under-Lizard</td>\n",
       "        <td>823</td>\n",
       "        <td>52.702</td>\n",
       "    </tr>\n",
       "    <tr>\n",
       "        <td>Lapley, Stretton and Wheaton Aston</td>\n",
       "        <td>2548</td>\n",
       "        <td>52.71</td>\n",
       "    </tr>\n",
       "    <tr>\n",
       "        <td>Penkridge</td>\n",
       "        <td>8526</td>\n",
       "        <td>None</td>\n",
       "    </tr>\n",
       "</table>"
      ],
      "text/plain": [
       "[('Church Eaton', 680, 52.757),\n",
       " ('Sheriffhales', 722, None),\n",
       " ('Blymhill & Weston-under-Lizard', 823, 52.702),\n",
       " ('Lapley, Stretton and Wheaton Aston', 2548, 52.71),\n",
       " ('Penkridge', 8526, None)]"
      ]
     },
     "execution_count": 19,
     "metadata": {},
     "output_type": "execute_result"
    }
   ],
   "source": [
    "%%sql\n",
    "SELECT name, population, loc_n\n",
    "  FROM parishes\n",
    " ORDER BY population, loc_n -- Though this isn't meaningful here"
   ]
  }
 ],
 "metadata": {
  "kernelspec": {
   "display_name": "Python 3",
   "language": "python",
   "name": "python3"
  },
  "language_info": {
   "codemirror_mode": {
    "name": "ipython",
    "version": 3
   },
   "file_extension": ".py",
   "mimetype": "text/x-python",
   "name": "python",
   "nbconvert_exporter": "python",
   "pygments_lexer": "ipython3",
   "version": "3.7.0"
  }
 },
 "nbformat": 4,
 "nbformat_minor": 1
}
